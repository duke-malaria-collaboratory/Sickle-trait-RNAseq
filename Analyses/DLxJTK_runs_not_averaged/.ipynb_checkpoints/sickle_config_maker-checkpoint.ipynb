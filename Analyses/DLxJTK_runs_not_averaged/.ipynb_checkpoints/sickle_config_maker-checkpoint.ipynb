{
 "cells": [
  {
   "cell_type": "code",
   "execution_count": 143,
   "metadata": {},
   "outputs": [],
   "source": [
    "import pandas as pd\n",
    "import os\n",
    "from configobj import ConfigObj"
   ]
  },
  {
   "cell_type": "code",
   "execution_count": 144,
   "metadata": {},
   "outputs": [],
   "source": [
    "full_data_df = pd.read_csv(\"../Sickle-trait-RNAseq/Data/TPMs.csv\", index_col=0)"
   ]
  },
  {
   "cell_type": "code",
   "execution_count": 147,
   "metadata": {},
   "outputs": [],
   "source": [
    "def drop_n_config(df):\n",
    "    \n",
    "    cwd = os.getcwd()\n",
    "    # convert column names to timepoints\n",
    "    cols = df.columns.tolist()\n",
    "    conv = [int(c[4:6])*3 for c in cols]\n",
    "    cols2tp_dic = {col:c for col,c in zip(cols, conv)}\n",
    "    tp_df = df.rename(columns=cols2tp_dic)\n",
    "    conv.sort()\n",
    "    sorted_tp_df = tp_df[conv]\n",
    "    # SAVE DF TO FILE\n",
    "    filename = \"_\".join([cols[0].split(\"_\")[0][:4], cols[0].split(\"_\")[1], \"ts.tsv\"])\n",
    "    full_filename = os.path.join(cwd, filename)\n",
    "    sorted_tp_df.to_csv(full_filename, sep=\"\\t\")\n",
    "    \n",
    "    filtered_ts_df = sorted_tp_df[sorted_tp_df.apply(lambda row: sum(x <= 1 for x in row), axis = 1) <= sorted_tp_df.shape[1]/2]\n",
    "    filtered_filename = \"_\".join([cols[0].split(\"_\")[0][:4], cols[0].split(\"_\")[1], \"ts_filtered.tsv\"])\n",
    "    full_filtered_filename = os.path.join(cwd, filtered_filename)\n",
    "    filtered_ts_df.to_csv(full_filtered_filename, sep=\"\\t\")\n",
    "    \n",
    "    config_dict = dict()\n",
    "    config_dict[\"data_file\"] = full_filtered_filename\n",
    "    config_dict[\"annotation_file\"] = os.path.join(cwd, \"empty_annot.tsv\")\n",
    "    config_dict[\"output_dir\"] = os.path.join(cwd, \"_\".join([cols[0].split(\"_\")[0][:4], cols[0].split(\"_\")[1], \"Results\"]))\n",
    "    config_dict[\"num_proc\"] = 4\n",
    "    config_dict[\"verbose\"] = True\n",
    "\n",
    "    config_dict[\"dlxjtk_arguments\"] = dict()\n",
    "    config_dict[\"dlxjtk_arguments\"][\"periods\"] = 45, 48, 51\n",
    "    config_dict[\"dlxjtk_arguments\"][\"dlxjtk_cutoff\"] = 10\n",
    "    config_dict[\"dlxjtk_arguments\"][\"num_reg\"] = 1000000\n",
    "    config_dict[\"dlxjtk_arguments\"][\"num_per\"] = 10000\n",
    "    \n",
    "    co_obj = ConfigObj(config_dict)\n",
    "    co_filename = os.path.join(cwd, \"_\".join([cols[0].split(\"_\")[0][:4], cols[0].split(\"_\")[1], \"config.txt\"]))\n",
    "    print(co_filename)\n",
    "    co_obj.filename = co_filename\n",
    "    co_obj.write()"
   ]
  },
  {
   "cell_type": "code",
   "execution_count": 148,
   "metadata": {},
   "outputs": [
    {
     "name": "stdout",
     "output_type": "stream",
     "text": [
      "/Users/robertmoseley/Desktop/Malaria-Sickle/Scripts/AA13_3D7_config.txt\n",
      "/Users/robertmoseley/Desktop/Malaria-Sickle/Scripts/AA17_3D7_config.txt\n",
      "/Users/robertmoseley/Desktop/Malaria-Sickle/Scripts/AS15_3D7_config.txt\n",
      "/Users/robertmoseley/Desktop/Malaria-Sickle/Scripts/AS16_3D7_config.txt\n",
      "/Users/robertmoseley/Desktop/Malaria-Sickle/Scripts/AA13_FUP_config.txt\n",
      "/Users/robertmoseley/Desktop/Malaria-Sickle/Scripts/AA17_FUP_config.txt\n",
      "/Users/robertmoseley/Desktop/Malaria-Sickle/Scripts/AS18_FUP_config.txt\n",
      "/Users/robertmoseley/Desktop/Malaria-Sickle/Scripts/AS19_FUP_config.txt\n"
     ]
    }
   ],
   "source": [
    "# 3D7\n",
    "AA1_3D7_df = full_data_df.filter(regex='(AA13.*3D7)')\n",
    "AA1_3D7_config = drop_n_config(AA1_3D7_df)\n",
    "AA2_3D7_df = full_data_df.filter(regex='(AA17.*3D7)')\n",
    "AA2_3D7_config = drop_n_config(AA2_3D7_df)\n",
    "AS1_3D7_df = full_data_df.filter(regex='(AS15.*3D7)')\n",
    "AS1_3D7_config = drop_n_config(AS1_3D7_df)\n",
    "AS2_3D7_df = full_data_df.filter(regex='(AS16.*3D7)')\n",
    "AS2_3D7_config = drop_n_config(AS2_3D7_df)\n",
    "\n",
    "# FUP\n",
    "AA1_FUP_df = full_data_df.filter(regex='(AA13.*FUP)')\n",
    "AA1_FUP_config = drop_n_config(AA1_FUP_df)\n",
    "AA2_FUP_df = full_data_df.filter(regex='(AA17.*FUP)')\n",
    "AA2_FUP_config = drop_n_config(AA2_FUP_df)\n",
    "AS1_FUP_df = full_data_df.filter(regex='(AS18.*FUP)')\n",
    "AS1_FUP_config = drop_n_config(AS1_FUP_df)\n",
    "AS2_FUP_df = full_data_df.filter(regex='(AS19.*FUP)')\n",
    "AS2_FUP_config = drop_n_config(AS2_FUP_df)"
   ]
  },
  {
   "cell_type": "code",
   "execution_count": 130,
   "metadata": {},
   "outputs": [],
   "source": []
  },
  {
   "cell_type": "code",
   "execution_count": null,
   "metadata": {},
   "outputs": [],
   "source": []
  },
  {
   "cell_type": "code",
   "execution_count": null,
   "metadata": {},
   "outputs": [],
   "source": []
  },
  {
   "cell_type": "code",
   "execution_count": null,
   "metadata": {},
   "outputs": [],
   "source": []
  },
  {
   "cell_type": "code",
   "execution_count": null,
   "metadata": {},
   "outputs": [],
   "source": []
  }
 ],
 "metadata": {
  "kernelspec": {
   "display_name": "Python 3.5",
   "language": "python",
   "name": "py35"
  },
  "language_info": {
   "codemirror_mode": {
    "name": "ipython",
    "version": 3
   },
   "file_extension": ".py",
   "mimetype": "text/x-python",
   "name": "python",
   "nbconvert_exporter": "python",
   "pygments_lexer": "ipython3",
   "version": "3.6.7"
  }
 },
 "nbformat": 4,
 "nbformat_minor": 2
}
