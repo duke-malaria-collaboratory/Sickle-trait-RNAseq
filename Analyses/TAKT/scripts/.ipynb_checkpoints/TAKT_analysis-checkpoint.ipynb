{
 "cells": [
  {
   "cell_type": "code",
   "execution_count": 6,
   "metadata": {},
   "outputs": [],
   "source": [
    "import os\n",
    "%run python_functions.py"
   ]
  },
  {
   "cell_type": "code",
   "execution_count": 7,
   "metadata": {},
   "outputs": [],
   "source": [
    "ring_3d7_results_dir =  '../results/3D7'\n",
    "ring_fup_results_dir =  '../results/FUP'"
   ]
  },
  {
   "cell_type": "code",
   "execution_count": 8,
   "metadata": {},
   "outputs": [
    {
     "name": "stdout",
     "output_type": "stream",
     "text": [
      "# of files (genes): 4842\n"
     ]
    }
   ],
   "source": [
    "# Number of files equals the number of genes\n",
    "ring_3d7_files = [file for file in os.listdir(ring_3d7_results_dir) if file.startswith('kt')]\n",
    "print('# of files (genes): {}'.format(len(ring_3d7_files)))"
   ]
  },
  {
   "cell_type": "code",
   "execution_count": 9,
   "metadata": {},
   "outputs": [
    {
     "name": "stdout",
     "output_type": "stream",
     "text": [
      "# of files (genes): 4657\n"
     ]
    }
   ],
   "source": [
    "# Number of files equals the number of genes\n",
    "ring_fup_files = [file for file in os.listdir(ring_fup_results_dir) if file.startswith('kt')]\n",
    "print('# of files (genes): {}'.format(len(ring_fup_files)))"
   ]
  },
  {
   "cell_type": "markdown",
   "metadata": {},
   "source": [
    "______________________________________________\n",
    "The following two cells combine all the datasets per parasite together into one dataframe. \n",
    "Each row represents a TAKT analysis on a single gene between two datasets.\n",
    "Additional columns are added that specify which two datasets (pat1, pat2) were analyzed "
   ]
  },
  {
   "cell_type": "code",
   "execution_count": 10,
   "metadata": {},
   "outputs": [],
   "source": [
    "\n",
    "ring_3d7_df_list = []\n",
    "for file in ring_3d7_files:\n",
    "    loop_df = setup_df(os.path.join(ring_3d7_results_dir, file))\n",
    "    ring_3d7_df_list.append(loop_df)\n",
    "ring_3d7_df = pd.concat(ring_3d7_df_list)"
   ]
  },
  {
   "cell_type": "code",
   "execution_count": 12,
   "metadata": {},
   "outputs": [],
   "source": [
    "ring_fup_df_list = []\n",
    "for file in ring_fup_files:\n",
    "    loop_df = setup_df(os.path.join(ring_fup_results_dir, file))\n",
    "    ring_fup_df_list.append(loop_df)\n",
    "ring_fup_df = pd.concat(ring_fup_df_list)"
   ]
  },
  {
   "cell_type": "code",
   "execution_count": 15,
   "metadata": {},
   "outputs": [
    {
     "data": {
      "text/html": [
       "<div>\n",
       "<style scoped>\n",
       "    .dataframe tbody tr th:only-of-type {\n",
       "        vertical-align: middle;\n",
       "    }\n",
       "\n",
       "    .dataframe tbody tr th {\n",
       "        vertical-align: top;\n",
       "    }\n",
       "\n",
       "    .dataframe thead th {\n",
       "        text-align: right;\n",
       "    }\n",
       "</style>\n",
       "<table border=\"1\" class=\"dataframe\">\n",
       "  <thead>\n",
       "    <tr style=\"text-align: right;\">\n",
       "      <th></th>\n",
       "      <th>shift_0</th>\n",
       "      <th>shift_1</th>\n",
       "      <th>shift_2</th>\n",
       "      <th>shift_3</th>\n",
       "      <th>shift_4</th>\n",
       "      <th>df_1</th>\n",
       "      <th>df_2</th>\n",
       "      <th>kt_diss_range</th>\n",
       "      <th>kt_diss</th>\n",
       "      <th>kt_diss_pval</th>\n",
       "      <th>est_delay</th>\n",
       "      <th>adj_shift</th>\n",
       "      <th>pat1</th>\n",
       "      <th>para1</th>\n",
       "      <th>pat2</th>\n",
       "      <th>para2</th>\n",
       "    </tr>\n",
       "  </thead>\n",
       "  <tbody>\n",
       "    <tr>\n",
       "      <th>PF3D7_0915700</th>\n",
       "      <td>0.266667</td>\n",
       "      <td>0.6</td>\n",
       "      <td>1.000000</td>\n",
       "      <td>0.333333</td>\n",
       "      <td>0.0</td>\n",
       "      <td>AS19_FUP</td>\n",
       "      <td>AS18_FUP</td>\n",
       "      <td>1.000000</td>\n",
       "      <td>0.0</td>\n",
       "      <td>0.000000</td>\n",
       "      <td>12.0</td>\n",
       "      <td>12.0</td>\n",
       "      <td>AS19</td>\n",
       "      <td>FUP</td>\n",
       "      <td>AS18</td>\n",
       "      <td>FUP</td>\n",
       "    </tr>\n",
       "    <tr>\n",
       "      <th>PF3D7_0915700</th>\n",
       "      <td>0.200000</td>\n",
       "      <td>0.5</td>\n",
       "      <td>0.666667</td>\n",
       "      <td>0.000000</td>\n",
       "      <td>0.0</td>\n",
       "      <td>AS19_FUP</td>\n",
       "      <td>AA17_FUP</td>\n",
       "      <td>0.666667</td>\n",
       "      <td>0.0</td>\n",
       "      <td>0.000000</td>\n",
       "      <td>9.0</td>\n",
       "      <td>9.0</td>\n",
       "      <td>AS19</td>\n",
       "      <td>FUP</td>\n",
       "      <td>AA17</td>\n",
       "      <td>FUP</td>\n",
       "    </tr>\n",
       "    <tr>\n",
       "      <th>PF3D7_0915700</th>\n",
       "      <td>0.466667</td>\n",
       "      <td>0.3</td>\n",
       "      <td>0.500000</td>\n",
       "      <td>1.000000</td>\n",
       "      <td>1.0</td>\n",
       "      <td>AS19_FUP</td>\n",
       "      <td>AA13_FUP</td>\n",
       "      <td>0.700000</td>\n",
       "      <td>0.3</td>\n",
       "      <td>0.000075</td>\n",
       "      <td>3.0</td>\n",
       "      <td>3.0</td>\n",
       "      <td>AS19</td>\n",
       "      <td>FUP</td>\n",
       "      <td>AA13</td>\n",
       "      <td>FUP</td>\n",
       "    </tr>\n",
       "    <tr>\n",
       "      <th>PF3D7_0915700</th>\n",
       "      <td>0.200000</td>\n",
       "      <td>0.6</td>\n",
       "      <td>1.000000</td>\n",
       "      <td>0.333333</td>\n",
       "      <td>0.0</td>\n",
       "      <td>AS18_FUP</td>\n",
       "      <td>AA17_FUP</td>\n",
       "      <td>1.000000</td>\n",
       "      <td>0.0</td>\n",
       "      <td>0.000000</td>\n",
       "      <td>12.0</td>\n",
       "      <td>12.0</td>\n",
       "      <td>AS18</td>\n",
       "      <td>FUP</td>\n",
       "      <td>AA17</td>\n",
       "      <td>FUP</td>\n",
       "    </tr>\n",
       "    <tr>\n",
       "      <th>PF3D7_0915700</th>\n",
       "      <td>0.733333</td>\n",
       "      <td>0.0</td>\n",
       "      <td>0.500000</td>\n",
       "      <td>0.666667</td>\n",
       "      <td>1.0</td>\n",
       "      <td>AS18_FUP</td>\n",
       "      <td>AA13_FUP</td>\n",
       "      <td>1.000000</td>\n",
       "      <td>0.0</td>\n",
       "      <td>0.000000</td>\n",
       "      <td>3.0</td>\n",
       "      <td>3.0</td>\n",
       "      <td>AS18</td>\n",
       "      <td>FUP</td>\n",
       "      <td>AA13</td>\n",
       "      <td>FUP</td>\n",
       "    </tr>\n",
       "  </tbody>\n",
       "</table>\n",
       "</div>"
      ],
      "text/plain": [
       "                shift_0  shift_1   shift_2   shift_3  shift_4      df_1  \\\n",
       "PF3D7_0915700  0.266667      0.6  1.000000  0.333333      0.0  AS19_FUP   \n",
       "PF3D7_0915700  0.200000      0.5  0.666667  0.000000      0.0  AS19_FUP   \n",
       "PF3D7_0915700  0.466667      0.3  0.500000  1.000000      1.0  AS19_FUP   \n",
       "PF3D7_0915700  0.200000      0.6  1.000000  0.333333      0.0  AS18_FUP   \n",
       "PF3D7_0915700  0.733333      0.0  0.500000  0.666667      1.0  AS18_FUP   \n",
       "\n",
       "                   df_2  kt_diss_range  kt_diss  kt_diss_pval  est_delay  \\\n",
       "PF3D7_0915700  AS18_FUP       1.000000      0.0      0.000000       12.0   \n",
       "PF3D7_0915700  AA17_FUP       0.666667      0.0      0.000000        9.0   \n",
       "PF3D7_0915700  AA13_FUP       0.700000      0.3      0.000075        3.0   \n",
       "PF3D7_0915700  AA17_FUP       1.000000      0.0      0.000000       12.0   \n",
       "PF3D7_0915700  AA13_FUP       1.000000      0.0      0.000000        3.0   \n",
       "\n",
       "               adj_shift  pat1 para1  pat2 para2  \n",
       "PF3D7_0915700       12.0  AS19   FUP  AS18   FUP  \n",
       "PF3D7_0915700        9.0  AS19   FUP  AA17   FUP  \n",
       "PF3D7_0915700        3.0  AS19   FUP  AA13   FUP  \n",
       "PF3D7_0915700       12.0  AS18   FUP  AA17   FUP  \n",
       "PF3D7_0915700        3.0  AS18   FUP  AA13   FUP  "
      ]
     },
     "execution_count": 15,
     "metadata": {},
     "output_type": "execute_result"
    }
   ],
   "source": [
    "ring_fup_df.head()"
   ]
  },
  {
   "cell_type": "markdown",
   "metadata": {},
   "source": [
    "__________________________________________________\n",
    "The two cells below query the dataframes generated above to identify genes that:\n",
    "1. have similar dynamics across all β-globin types within each parasite (TAKT p-value ≤ 0.05)\n",
    "2. have one HbAA replicate phased within +/- 3, 6, or 9 hours of its other HbAA replicate\n",
    "3. both its HbAS replicates are phased > +/- 3, 6, or 9 hours from each HbAA replicate\n",
    "\n",
    "The ouput is a dictionary for each parasite that contains lists of genes for each shift"
   ]
  },
  {
   "cell_type": "code",
   "execution_count": 16,
   "metadata": {},
   "outputs": [],
   "source": [
    "shift_list = [3, 6, 9] \n",
    "pval_list = [0.05]\n",
    "\n",
    "shift_fup_dict = {sh:{p:[] for p in pval_list} for sh in shift_list}\n",
    "\n",
    "for gene in list(set(ring_fup_df.index)):\n",
    "    gene_df = ring_fup_df[ring_fup_df.index == gene]\n",
    "    for single_shift in shift_list:\n",
    "        for single_pval in pval_list:\n",
    "            # Parasite-specific comparisons\n",
    "            # genes between AA samples have similar shape and no shift greater than 'single_shift'\n",
    "            AA_same = single_gene_analysis(gene_df, 'AA', 'AA', single_shift, single_pval, no_shift=True)\n",
    "            # genes between AS samples have similar shape and no shift greater than 'single_shift'\n",
    "            AS_same = single_gene_analysis(gene_df, 'AS', 'AS', single_shift, single_pval, no_shift=True)\n",
    "            # genes between AS and AA samples have similar shape and shifts greater than 'single_shift'\n",
    "            AAAS_diff = single_gene_analysis(gene_df, 'AA', 'AS', single_shift, single_pval, no_shift=False)\n",
    "#             print(gene, single_shift, single_pval, AA_same, AS_same, AAAS_diff)\n",
    "            \n",
    "            if AA_same['FUP'] == 1 and AS_same['FUP'] == 1 and AAAS_diff['FUP'] >= 2:\n",
    "                shift_fup_dict[single_shift][single_pval].append(gene)"
   ]
  },
  {
   "cell_type": "code",
   "execution_count": 17,
   "metadata": {},
   "outputs": [],
   "source": [
    "shift_list = [3, 6, 9] \n",
    "pval_list = [0.05]\n",
    "\n",
    "shift_3d7_dict = {sh:{p:[] for p in pval_list} for sh in shift_list}\n",
    "\n",
    "for gene in list(set(ring_3d7_df.index)):\n",
    "    gene_df = ring_3d7_df[ring_3d7_df.index == gene]\n",
    "    for single_shift in shift_list:\n",
    "        for single_pval in pval_list:\n",
    "            # Parasite-specific comparisons\n",
    "            # genes between AA samples have similar shape and no shift greater than 'single_shift'\n",
    "            AA_same = single_gene_analysis(gene_df, 'AA', 'AA', single_shift, single_pval, no_shift=True)\n",
    "            # genes between AS samples have similar shape and no shift greater than 'single_shift'\n",
    "            AS_same = single_gene_analysis(gene_df, 'AS', 'AS', single_shift, single_pval, no_shift=True)\n",
    "            # genes between AS and AA samples have similar shape and shifts greater than 'single_shift'\n",
    "            AAAS_diff = single_gene_analysis(gene_df, 'AA', 'AS', single_shift, single_pval, no_shift=False)\n",
    "#             print(gene, single_shift, single_pval, AA_same, AS_same, AAAS_diff)\n",
    "            \n",
    "            if AA_same['3D7'] == 1 and AS_same['3D7'] == 1 and AAAS_diff['3D7'] >= 2:\n",
    "                shift_3d7_dict[single_shift][single_pval].append(gene)"
   ]
  },
  {
   "cell_type": "code",
   "execution_count": 39,
   "metadata": {},
   "outputs": [],
   "source": [
    "# Combine the gene lists from above into one dataframe.\n",
    "shift_df = pd.DataFrame()\n",
    "shift_df_list = []\n",
    "for shift in shift_list:\n",
    "    shift_df_list.append(pd.DataFrame(shift_3d7_dict[shift][0.05], columns=[f'3D7_{shift}']))\n",
    "    shift_df_list.append(pd.DataFrame(shift_fup_dict[shift][0.05], columns=[f'FUP_{shift}']))\n",
    "shift_df = pd.concat(shift_df_list, axis=1)\n",
    "shift_df.to_csv('../results/TAKT_shifts_gene_list.csv', index=False)"
   ]
  },
  {
   "cell_type": "code",
   "execution_count": 43,
   "metadata": {},
   "outputs": [],
   "source": []
  },
  {
   "cell_type": "code",
   "execution_count": null,
   "metadata": {},
   "outputs": [],
   "source": []
  }
 ],
 "metadata": {
  "kernelspec": {
   "display_name": "Python 3",
   "language": "python",
   "name": "python3"
  },
  "language_info": {
   "codemirror_mode": {
    "name": "ipython",
    "version": 3
   },
   "file_extension": ".py",
   "mimetype": "text/x-python",
   "name": "python",
   "nbconvert_exporter": "python",
   "pygments_lexer": "ipython3",
   "version": "3.8.5"
  }
 },
 "nbformat": 4,
 "nbformat_minor": 4
}
