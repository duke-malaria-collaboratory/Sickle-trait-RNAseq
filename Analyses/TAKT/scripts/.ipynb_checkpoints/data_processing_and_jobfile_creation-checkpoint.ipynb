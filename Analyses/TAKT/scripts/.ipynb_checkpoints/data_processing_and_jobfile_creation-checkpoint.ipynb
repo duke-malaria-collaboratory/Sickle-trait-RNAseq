{
 "cells": [
  {
   "cell_type": "code",
   "execution_count": 15,
   "metadata": {},
   "outputs": [],
   "source": [
    "import os\n",
    "import pandas as pd\n",
    "%run python_functions.py"
   ]
  },
  {
   "cell_type": "code",
   "execution_count": 3,
   "metadata": {},
   "outputs": [],
   "source": [
    "org_data_dir = '../../../Data/salmon/Time Series/Read Counts'\n",
    "data_dir = '../data'\n",
    "pat_data_dir = os.path.join(data_dir, 'patient_data')\n",
    "ring_stage_data_dir = os.path.join(data_dir, 'ring_stage_data')\n",
    "interp_ring_stage_data_dir = os.path.join(data_dir, 'interp_ring_stage_data')"
   ]
  },
  {
   "cell_type": "code",
   "execution_count": 4,
   "metadata": {},
   "outputs": [],
   "source": [
    "# these datasets have been filtered to only contain genes with every timepoint having a TPM >= 5\n",
    "ts_3d7_df = pd.read_csv(os.path.join(org_data_dir, \"min5_TPMs_3D7.csv\"), index_col=0)\n",
    "ts_fup_df = pd.read_csv(os.path.join(org_data_dir, \"min5_TPMs_FUP.csv\"), index_col=0)\n",
    "time_points = list(range(3, 51,3))"
   ]
  },
  {
   "cell_type": "code",
   "execution_count": 5,
   "metadata": {},
   "outputs": [
    {
     "name": "stdout",
     "output_type": "stream",
     "text": [
      "3D7\n",
      "Patient AA17; 4842 genes\n",
      "Patient AS15; 4842 genes\n",
      "Patient AA13; 4842 genes\n",
      "Patient AS16; 4842 genes\n"
     ]
    }
   ],
   "source": [
    "# Patient data is separated and stored in a dictionary for use later\n",
    "ts_3d7_dict = sep_patient_dfs(ts_3d7_df, [], pat_data_dir, time_points)"
   ]
  },
  {
   "cell_type": "code",
   "execution_count": 6,
   "metadata": {},
   "outputs": [
    {
     "name": "stdout",
     "output_type": "stream",
     "text": [
      "FUP\n",
      "Patient AA17; 4657 genes\n",
      "Patient AS18; 4657 genes\n",
      "Patient AA13; 4657 genes\n",
      "Patient AS19; 4657 genes\n"
     ]
    }
   ],
   "source": [
    "# Patient data is separated and stored in a dictionary for use later\n",
    "ts_fup_dict = sep_patient_dfs(ts_fup_df, [], pat_data_dir, time_points)"
   ]
  },
  {
   "cell_type": "code",
   "execution_count": 7,
   "metadata": {},
   "outputs": [],
   "source": [
    "# truncate data so that only ring stage samples are left\n",
    "ring_stage_tps = {'FUP': 18, '3D7': 24}\n",
    "ring_stage_dfs(ring_stage_tps, pat_data_dir, ring_stage_data_dir)"
   ]
  },
  {
   "cell_type": "markdown",
   "metadata": {},
   "source": [
    "The Duke Computer Cluster (DCC) (https://rc.duke.edu/dcc/) was used to run the TAKT algorithm on the \n",
    "ring-stage-truncated datasets. The cell below will generate the job files submitted to the DCC. The DCC uses Slurm for scheduling jobs so we utlizied Slurm job arrays for submitting jobs. Each job runs the TAKT algorithm on one gene within all ring-stage-truncated datasets. If you are reproducing the analysis, all directory paths and the mail-user need to be changed within the job file. The directoires will need to be made as well. Also make sure the memory allocation is appropriate for your setup. Lastly, the TAKT code must be available."
   ]
  },
  {
   "cell_type": "code",
   "execution_count": 17,
   "metadata": {},
   "outputs": [],
   "source": [
    "ring_file_dir = '/hpc/group/haaselab/rcm49/sickle-trait-rnaseq/TAKT_DCC/data/ring_stage_data'\n",
    "ring_out_dir = '/hpc/group/haaselab/rcm49/sickle-trait-rnaseq/TAKT_DCC/results/takt_ring_stage_output'\n",
    "takt_path = '/hpc/group/haaselab/rcm49/sickle-trait-rnaseq/TAKT/python/rna_rna_diss_slurm.py'"
   ]
  },
  {
   "cell_type": "code",
   "execution_count": 18,
   "metadata": {},
   "outputs": [],
   "source": [
    "batch_args_3d7 = {'-e': '/hpc/group/haaselab/rcm49/sickle-trait-rnaseq/TAKT_DCC/results/takt_ring_stage_output/3D7/takt_3D7_ring.err', \n",
    "                  '-o': '/hpc/group/haaselab/rcm49/sickle-trait-rnaseq/TAKT_DCC/results/takt_ring_stage_output/3D7/takt_3D7_ring.out', \n",
    "                  '-a': '1-4842', \n",
    "                  '-J': '3D7_ring', \n",
    "                  '--mem': '2G', \n",
    "                  '--mail-type': 'ALL', \n",
    "                  '--mail-user': 'robert.moseley@duke.edu'}\n",
    "threed7_permutations = 40320\n",
    "threed7_shifts = 7"
   ]
  },
  {
   "cell_type": "code",
   "execution_count": 19,
   "metadata": {},
   "outputs": [],
   "source": [
    "make_slurm_jobs_file(batch_args_3d7, ring_file_dir, ring_out_dir, takt_path, threed7_permutations, threed7_shifts, '3D7')"
   ]
  },
  {
   "cell_type": "code",
   "execution_count": null,
   "metadata": {},
   "outputs": [],
   "source": [
    "batch_args_fup = {'-e': '/hpc/group/haaselab/rcm49/sickle-trait-rnaseq/TAKT_DCC/results/takt_ring_stage_output/FUP/takt_FUP_ring.err', \n",
    "                  '-o': '/hpc/group/haaselab/rcm49/sickle-trait-rnaseq/TAKT_DCC/results/takt_ring_stage_output/FUP/takt_FUP_ring.out', \n",
    "                  '-a': '1-4657', \n",
    "                  '-J': 'FUP_ring', \n",
    "                  '--mem': '2G', \n",
    "                  '--mail-type': 'ALL', \n",
    "                  '--mail-user': 'robert.moseley@duke.edu'}\n",
    "fup_permutations = 720\n",
    "fup_shifts = 5"
   ]
  },
  {
   "cell_type": "code",
   "execution_count": null,
   "metadata": {},
   "outputs": [],
   "source": [
    "make_slurm_jobs_file(batch_args_fup, ring_file_dir, ring_out_dir, takt_path, fup_permutations, fup_shifts, 'fup')"
   ]
  }
 ],
 "metadata": {
  "kernelspec": {
   "display_name": "Python 3",
   "language": "python",
   "name": "python3"
  },
  "language_info": {
   "codemirror_mode": {
    "name": "ipython",
    "version": 3
   },
   "file_extension": ".py",
   "mimetype": "text/x-python",
   "name": "python",
   "nbconvert_exporter": "python",
   "pygments_lexer": "ipython3",
   "version": "3.8.5"
  }
 },
 "nbformat": 4,
 "nbformat_minor": 4
}
