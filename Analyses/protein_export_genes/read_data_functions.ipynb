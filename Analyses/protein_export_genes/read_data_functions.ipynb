{
 "cells": [
  {
   "cell_type": "code",
   "execution_count": 61,
   "metadata": {},
   "outputs": [],
   "source": [
    "import os\n",
    "import pandas as pd"
   ]
  },
  {
   "cell_type": "code",
   "execution_count": 62,
   "metadata": {},
   "outputs": [],
   "source": [
    "full_data_df = pd.read_csv(\"/Users/robertmoseley/Desktop/Malaria-Sickle/Sickle-trait-RNAseq/Data/read_counts/TPMs_primary.csv\", index_col=0)\n",
    "time_points = list(range(3, 51,3))\n",
    "# print(len(time_points))"
   ]
  },
  {
   "cell_type": "code",
   "execution_count": 63,
   "metadata": {},
   "outputs": [],
   "source": [
    "def pe_gene_list():\n",
    "    # protein_export_gene_df = pd.read_csv(\"geneList.csv\")\n",
    "    protein_export_gene_df = pd.read_csv(\"/Users/robertmoseley/Desktop/Malaria-Sickle/Sickle-trait-RNAseq/Data/proteinExportList/exportGenes_subset.csv\")\n",
    "    protein_export_gene_list = protein_export_gene_df[\"ORF\"].tolist()\n",
    "    # PE = protein export\n",
    "    return(protein_export_gene_list)"
   ]
  },
  {
   "cell_type": "code",
   "execution_count": 64,
   "metadata": {},
   "outputs": [],
   "source": [
    "def get_ts_3D7():\n",
    "    # 3D7\n",
    "    AA13_3D7_df = full_data_df.filter(regex='(AA13.*3D7)')\n",
    "    AA13_3D7_df.columns = time_points\n",
    "#     AA13_3D7_df.index.name = 'AA13_3D7'\n",
    "#     AA13_3D7_PE_df = AA13_3D7_df[AA13_3D7_df.index.isin(protein_export_gene_list)]\n",
    "#     AA13_3D7_PE_df.to_csv(\"Data/AA13_3D7_PE.txt\", sep=\"\\t\")\n",
    "#     print(AA13_3D7_PE_df.shape[0])\n",
    "\n",
    "    AA17_3D7_df = full_data_df.filter(regex='(AA17.*3D7)')\n",
    "    AA17_3D7_df.columns = time_points\n",
    "#     AA17_3D7_df.index.name = 'AA17_3D7'\n",
    "#     AA17_3D7_PE_df = AA17_3D7_df[AA17_3D7_df.index.isin(protein_export_gene_list)]\n",
    "#     AA17_3D7_PE_df.to_csv(\"Data/AA17_3D7_PE.txt\", sep=\"\\t\")\n",
    "#     print(AA17_3D7_PE_df.shape[0])\n",
    "\n",
    "    AS15_3D7_df = full_data_df.filter(regex='(AS15.*3D7)')\n",
    "    AS15_3D7_df.columns = time_points\n",
    "#     AS15_3D7_df.index.name = 'AS15_3D7'\n",
    "#     AS15_3D7_PE_df = AS15_3D7_df[AS15_3D7_df.index.isin(protein_export_gene_list)]\n",
    "#     AS15_3D7_PE_df.to_csv(\"Data/AS15_3D7_PE.txt\", sep=\"\\t\")\n",
    "#     print(AS15_3D7_PE_df.shape[0])\n",
    "\n",
    "    AS16_3D7_df = full_data_df.filter(regex='(AS16.*3D7)')\n",
    "    AS16_3D7_df.columns = time_points\n",
    "#     AS16_3D7_df.index.name = 'AS16_3D7'\n",
    "#     AS16_3D7_PE_df = AS16_3D7_df[AS16_3D7_df.index.isin(protein_export_gene_list)]\n",
    "#     AS16_3D7_PE_df.to_csv(\"Data/AS16_3D7_PE.txt\", sep=\"\\t\")\n",
    "#     print(AS16_3D7_PE_df.shape[0])\n",
    "    return(AA13_3D7_df, AA17_3D7_df, AS15_3D7_df, AS16_3D7_df)"
   ]
  },
  {
   "cell_type": "code",
   "execution_count": 65,
   "metadata": {},
   "outputs": [],
   "source": [
    "def get_ts_FUP():\n",
    "    # FUP\n",
    "    AA13_FUP_df = full_data_df.filter(regex='(AA13.*FUP)')\n",
    "    AA13_FUP_df.columns = time_points\n",
    "#     AA13_FUP_df.index.name = 'AA13_FUP'\n",
    "#     AA13_FUP_PE_df = AA13_FUP_df[AA13_FUP_df.index.isin(protein_export_gene_list)]\n",
    "#     AA13_FUP_PE_df.to_csv(\"Data/AA13_FUP_PE.txt\", sep=\"\\t\")\n",
    "#     print(AA13_FUP_PE_df.shape[0])\n",
    "\n",
    "    AA17_FUP_df = full_data_df.filter(regex='(AA17.*FUP)')\n",
    "    AA17_FUP_df.columns = time_points\n",
    "#     AA17_FUP_df.index.name = 'AA17_FUP'\n",
    "#     AA17_FUP_PE_df = AA17_FUP_df[AA17_FUP_df.index.isin(protein_export_gene_list)]\n",
    "#     AA17_FUP_PE_df.to_csv(\"Data/AA17_FUP_PE.txt\", sep=\"\\t\")\n",
    "#     print(AA17_FUP_PE_df.shape[0])\n",
    "\n",
    "    AS18_FUP_df = full_data_df.filter(regex='(AS18.*FUP)')\n",
    "    AS18_FUP_df.columns = time_points\n",
    "#     AS18_FUP_df.index.name = 'AS18_FUP'\n",
    "#     AS18_FUP_PE_df = AS18_FUP_df[AS18_FUP_df.index.isin(protein_export_gene_list)]\n",
    "#     AS18_FUP_PE_df.to_csv(\"Data/AS18_FUP_PE.txt\", sep=\"\\t\")\n",
    "#     print(AS18_FUP_PE_df.shape[0])\n",
    "\n",
    "    AS19_FUP_df = full_data_df.filter(regex='(AS19.*FUP)')\n",
    "    AS19_FUP_df.columns = time_points\n",
    "#     AS19_FUP_df.index.name = 'AS19_FUP'\n",
    "#     AS19_FUP_PE_df = AS19_FUP_df[AS19_FUP_df.index.isin(protein_export_gene_list)]\n",
    "#     AS19_FUP_PE_df.to_csv(\"Data/AS19_FUP_PE.txt\", sep=\"\\t\")\n",
    "#     print(AS19_FUP_PE_df.shape[0])\n",
    "\n",
    "    return(AA13_FUP_df, AA17_FUP_df, AS18_FUP_df, AS19_FUP_df)"
   ]
  },
  {
   "cell_type": "code",
   "execution_count": 66,
   "metadata": {},
   "outputs": [],
   "source": [
    "def get_3D7_takt_pe_results():\n",
    "    AA13_3D7_AA17_3D7_takt = pd.read_csv('Results/kt_diss_AA13_3D7_PE-AA17_3D7_PE.tsv', sep='\\t', comment='#', index_col=0)\n",
    "    AA13_3D7_AA17_3D7_takt = AA13_3D7_AA17_3D7_takt.drop(['shift_times'])\n",
    "    AA13_3D7_AA17_3D7_takt.index.name = 'AA13 3D7 - AA17 3D7'\n",
    "    \n",
    "    AA13_3D7_AS15_3D7_takt = pd.read_csv('Results/kt_diss_AA13_3D7_PE-AS15_3D7_PE.tsv', sep='\\t', comment='#', index_col=0)\n",
    "    AA13_3D7_AS15_3D7_takt = AA13_3D7_AS15_3D7_takt.drop(['shift_times'])\n",
    "    AA13_3D7_AS15_3D7_takt.index.name = 'AA13 3D7 - AS15 3D7'\n",
    "\n",
    "    AA13_3D7_AS16_3D7_takt = pd.read_csv('Results/kt_diss_AA13_3D7_PE-AS16_3D7_PE.tsv', sep='\\t', comment='#', index_col=0)\n",
    "    AA13_3D7_AS16_3D7_takt = AA13_3D7_AS16_3D7_takt.drop(['shift_times'])\n",
    "    AA13_3D7_AS16_3D7_takt.index.name = 'AA13 3D7 - AS16 3D7'\n",
    "\n",
    "    AA17_3D7_AS15_3D7_takt = pd.read_csv('Results/kt_diss_AA17_3D7_PE-AS15_3D7_PE.tsv', sep='\\t', comment='#', index_col=0)\n",
    "    AA17_3D7_AS15_3D7_takt = AA17_3D7_AS15_3D7_takt.drop(['shift_times'])\n",
    "    AA17_3D7_AS15_3D7_takt.index.name = 'AA17 3D7 - AS15 3D7'\n",
    "\n",
    "    AA17_3D7_AS16_3D7_takt = pd.read_csv('Results/kt_diss_AA17_3D7_PE-AS16_3D7_PE.tsv', sep='\\t', comment='#', index_col=0)\n",
    "    AA17_3D7_AS16_3D7_takt = AA17_3D7_AS16_3D7_takt.drop(['shift_times'])\n",
    "    AA17_3D7_AS16_3D7_takt.index.name = 'AA17 3D7 - AS16 3D7'\n",
    "\n",
    "    return(AA13_3D7_AA17_3D7_takt, AA13_3D7_AS15_3D7_takt, AA13_3D7_AS16_3D7_takt, AA17_3D7_AS15_3D7_takt, AA17_3D7_AS16_3D7_takt)"
   ]
  },
  {
   "cell_type": "code",
   "execution_count": 67,
   "metadata": {},
   "outputs": [],
   "source": [
    "def get_FUP_takt_pe_results():\n",
    "    AA13_FUP_AA17_FUP_takt = pd.read_csv('Results/kt_diss_AA13_FUP_PE-AA17_FUP_PE.tsv', sep='\\t', comment='#', index_col=0)\n",
    "    AA13_FUP_AA17_FUP_takt = AA13_FUP_AA17_FUP_takt.drop(['shift_times'])\n",
    "    AA13_FUP_AA17_FUP_takt.index.name = 'AA13 FUP - AA17 FUP'\n",
    "    \n",
    "    AA13_FUP_AS18_FUP_takt = pd.read_csv('Results/kt_diss_AA13_FUP_PE-AS18_FUP_PE.tsv', sep='\\t', comment='#', index_col=0)\n",
    "    AA13_FUP_AS18_FUP_takt = AA13_FUP_AS18_FUP_takt.drop(['shift_times'])\n",
    "    AA13_FUP_AS18_FUP_takt.index.name = 'AA13 FUP - AS18 FUP'\n",
    "    \n",
    "    AA13_FUP_AS19_FUP_takt = pd.read_csv('Results/kt_diss_AA13_FUP_PE-AS19_FUP_PE.tsv', sep='\\t', comment='#', index_col=0)\n",
    "    AA13_FUP_AS19_FUP_takt = AA13_FUP_AS19_FUP_takt.drop(['shift_times'])\n",
    "    AA13_FUP_AS19_FUP_takt.index.name = 'AA13 FUP - AS19 FUP'\n",
    "        \n",
    "    AA17_FUP_AS18_FUP_takt = pd.read_csv('Results/kt_diss_AA17_FUP_PE-AS18_FUP_PE.tsv', sep='\\t', comment='#', index_col=0)\n",
    "    AA17_FUP_AS18_FUP_takt = AA17_FUP_AS18_FUP_takt.drop(['shift_times'])\n",
    "    AA17_FUP_AS18_FUP_takt.index.name = 'AA17 FUP - AS18 FUP'\n",
    "    \n",
    "    AA17_FUP_AS19_FUP_takt = pd.read_csv('Results/kt_diss_AA17_FUP_PE-AS19_FUP_PE.tsv', sep='\\t', comment='#', index_col=0)\n",
    "    AA17_FUP_AS19_FUP_takt = AA17_FUP_AS19_FUP_takt.drop(['shift_times'])\n",
    "    AA17_FUP_AS19_FUP_takt.index.name = 'AA17 FUP - AS19 FUP'\n",
    "    \n",
    "    return(AA13_FUP_AA17_FUP_takt, AA13_FUP_AS18_FUP_takt, AA13_FUP_AS19_FUP_takt, AA17_FUP_AS18_FUP_takt, AA17_FUP_AS19_FUP_takt)"
   ]
  },
  {
   "cell_type": "code",
   "execution_count": null,
   "metadata": {},
   "outputs": [],
   "source": []
  }
 ],
 "metadata": {
  "kernelspec": {
   "display_name": "Python 3",
   "language": "python",
   "name": "python3"
  },
  "language_info": {
   "codemirror_mode": {
    "name": "ipython",
    "version": 3
   },
   "file_extension": ".py",
   "mimetype": "text/x-python",
   "name": "python",
   "nbconvert_exporter": "python",
   "pygments_lexer": "ipython3",
   "version": "3.7.3"
  }
 },
 "nbformat": 4,
 "nbformat_minor": 4
}
