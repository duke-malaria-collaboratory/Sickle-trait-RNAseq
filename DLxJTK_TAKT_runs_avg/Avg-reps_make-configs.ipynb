{
 "cells": [
  {
   "cell_type": "code",
   "execution_count": 23,
   "metadata": {},
   "outputs": [],
   "source": [
    "import pandas as pd\n",
    "import os\n",
    "from configobj import ConfigObj"
   ]
  },
  {
   "cell_type": "code",
   "execution_count": 3,
   "metadata": {},
   "outputs": [
    {
     "name": "stdout",
     "output_type": "stream",
     "text": [
      "16\n"
     ]
    }
   ],
   "source": [
    "full_data_df = pd.read_csv(\"/Users/robertmoseley/Desktop/Malaria-Sickle/Sickle-trait-RNAseq/Data/read_counts/TPMs_primary.csv\", index_col=0)\n",
    "time_points = list(range(3, 51,3))\n",
    "print(len(time_points))"
   ]
  },
  {
   "cell_type": "markdown",
   "metadata": {},
   "source": [
    "#### Average Replicates and drop genes with more than half of their time series <= 1 TPM"
   ]
  },
  {
   "cell_type": "code",
   "execution_count": 15,
   "metadata": {},
   "outputs": [],
   "source": [
    "# 3D7\n",
    "AA1_3D7_df = full_data_df.filter(regex='(AA13.*3D7)')\n",
    "AA1_3D7_df.columns = time_points\n",
    "\n",
    "AA2_3D7_df = full_data_df.filter(regex='(AA17.*3D7)')\n",
    "AA2_3D7_df.columns = time_points\n",
    "\n",
    "AA1_AA2_3D7_concat = pd.concat((AA1_3D7_df, AA2_3D7_df))\n",
    "AA1_AA2_3D7_by_row_index = AA1_AA2_3D7_concat.groupby(AA1_AA2_3D7_concat.index)\n",
    "AA1_AA2_3D7_means = AA1_AA2_3D7_by_row_index.mean()\n",
    "AA1_AA2_3D7_means.head()\n",
    "AA1_AA2_3D7_means.to_csv(\"Data/AA_3D7_means.tsv\", sep=\"\\t\")"
   ]
  },
  {
   "cell_type": "code",
   "execution_count": 16,
   "metadata": {},
   "outputs": [],
   "source": [
    "AA1_AA2_3D7_means_filtered = AA1_AA2_3D7_means[AA1_AA2_3D7_means.apply(lambda row: sum(x <= 1 for x in row), axis = 1) <= AA1_AA2_3D7_means.shape[1]/2]\n",
    "AA1_AA2_3D7_means_filtered.to_csv(\"Data/AA_3D7_means_filtered.tsv\", sep=\"\\t\")"
   ]
  },
  {
   "cell_type": "code",
   "execution_count": 17,
   "metadata": {},
   "outputs": [],
   "source": [
    "AS1_3D7_df = full_data_df.filter(regex='(AS15.*3D7)')\n",
    "AS1_3D7_df.columns = time_points\n",
    "\n",
    "AS2_3D7_df = full_data_df.filter(regex='(AS16.*3D7)')\n",
    "AS2_3D7_df.columns = time_points\n",
    "\n",
    "AS1_AS2_3D7_concat = pd.concat((AS1_3D7_df, AS2_3D7_df))\n",
    "AS1_AS2_3D7_by_row_index = AS1_AS2_3D7_concat.groupby(AS1_AS2_3D7_concat.index)\n",
    "AS1_AS2_3D7_means = AS1_AS2_3D7_by_row_index.mean()\n",
    "# AS1_AS2_3D7_means.head()\n",
    "AS1_AS2_3D7_means.to_csv(\"Data/AS_3D7_means.tsv\", sep=\"\\t\")"
   ]
  },
  {
   "cell_type": "code",
   "execution_count": 18,
   "metadata": {},
   "outputs": [],
   "source": [
    "AS1_AS2_3D7_means_filtered = AS1_AS2_3D7_means[AS1_AS2_3D7_means.apply(lambda row: sum(x <= 1 for x in row), axis = 1) <= AS1_AS2_3D7_means.shape[1]/2]\n",
    "AS1_AS2_3D7_means_filtered.to_csv(\"Data/AS_3D7_means_filtered.tsv\", sep=\"\\t\")"
   ]
  },
  {
   "cell_type": "code",
   "execution_count": 19,
   "metadata": {},
   "outputs": [],
   "source": [
    "# FUP\n",
    "AA1_FUP_df = full_data_df.filter(regex='(AA13.*FUP)')\n",
    "AA1_FUP_df.columns = time_points\n",
    "\n",
    "AA2_FUP_df = full_data_df.filter(regex='(AA17.*FUP)')\n",
    "AA2_FUP_df.columns = time_points\n",
    "\n",
    "AA1_AA2_FUP_concat = pd.concat((AA1_FUP_df, AA2_FUP_df))\n",
    "AA1_AA2_FUP_by_row_index = AA1_AA2_FUP_concat.groupby(AA1_AA2_FUP_concat.index)\n",
    "AA1_AA2_FUP_means = AA1_AA2_FUP_by_row_index.mean()\n",
    "# AA1_AA2_FUP_means.head()\n",
    "AA1_AA2_FUP_means.to_csv(\"Data/AA_FUP_means.tsv\", sep=\"\\t\")"
   ]
  },
  {
   "cell_type": "code",
   "execution_count": 20,
   "metadata": {},
   "outputs": [],
   "source": [
    "AA1_AA2_FUP_means_filtered = AA1_AA2_FUP_means[AA1_AA2_FUP_means.apply(lambda row: sum(x <= 1 for x in row), axis = 1) <= AA1_AA2_FUP_means.shape[1]/2]\n",
    "AA1_AA2_FUP_means_filtered.to_csv(\"Data/AA_FUP_means_filtered.tsv\", sep=\"\\t\")"
   ]
  },
  {
   "cell_type": "code",
   "execution_count": 21,
   "metadata": {},
   "outputs": [],
   "source": [
    "AS1_FUP_df = full_data_df.filter(regex='(AS18.*FUP)')\n",
    "AS1_FUP_df.columns = time_points\n",
    "\n",
    "AS2_FUP_df = full_data_df.filter(regex='(AS19.*FUP)')\n",
    "AS2_FUP_df.columns = time_points\n",
    "\n",
    "AS1_AS2_FUP_concat = pd.concat((AS1_FUP_df, AS2_FUP_df))\n",
    "AS1_AS2_FUP_by_row_index = AS1_AS2_FUP_concat.groupby(AS1_AS2_FUP_concat.index)\n",
    "AS1_AS2_FUP_means = AS1_AS2_FUP_by_row_index.mean()\n",
    "# AS1_AS2_FUP_means.head()\n",
    "AS1_AS2_FUP_means.to_csv(\"Data/AS_FUP_means.tsv\", sep=\"\\t\")"
   ]
  },
  {
   "cell_type": "code",
   "execution_count": 22,
   "metadata": {},
   "outputs": [],
   "source": [
    "AS1_AS2_FUP_means_filtered = AS1_AS2_FUP_means[AS1_AS2_FUP_means.apply(lambda row: sum(x <= 1 for x in row), axis = 1) <= AS1_AS2_FUP_means.shape[1]/2]\n",
    "AS1_AS2_FUP_means_filtered.to_csv(\"Data/AS_FUP_means_filtered.tsv\", sep=\"\\t\")"
   ]
  },
  {
   "cell_type": "markdown",
   "metadata": {},
   "source": [
    "#### Make DLxJTK config files for each averaged dataset"
   ]
  },
  {
   "cell_type": "code",
   "execution_count": 28,
   "metadata": {},
   "outputs": [],
   "source": [
    "def drop_n_config(filename):\n",
    "    \n",
    "    cwd = os.getcwd()\n",
    "    data_dir = os.path.join(cwd, \"Data\")\n",
    "    path_to_file = os.path.join(data_dir, filename)\n",
    "    os.mkdir(\"Results/\" + filename[:6] + \"_results\")\n",
    "    results_dir = os.path.join(cwd, \"Results\", filename[:6] + \"_results\")\n",
    "    \n",
    "    config_dict = dict()\n",
    "    config_dict[\"data_file\"] = path_to_file\n",
    "    config_dict[\"annotation_file\"] = os.path.join(data_dir, \"empty_annot.tsv\")\n",
    "    config_dict[\"output_dir\"] = results_dir\n",
    "    config_dict[\"num_proc\"] = 8\n",
    "    config_dict[\"verbose\"] = True\n",
    "\n",
    "    config_dict[\"dlxjtk_arguments\"] = dict()\n",
    "    config_dict[\"dlxjtk_arguments\"][\"periods\"] = 45, 48, 51\n",
    "    config_dict[\"dlxjtk_arguments\"][\"dlxjtk_cutoff\"] = 10\n",
    "    config_dict[\"dlxjtk_arguments\"][\"num_reg\"] = 1000000\n",
    "    config_dict[\"dlxjtk_arguments\"][\"num_per\"] = 10000\n",
    "    \n",
    "    co_obj = ConfigObj(config_dict)\n",
    "    co_filename = os.path.join(data_dir, filename[:6] + \"_config.txt\")\n",
    "    print(co_filename)\n",
    "    co_obj.filename = co_filename\n",
    "    co_obj.write()"
   ]
  },
  {
   "cell_type": "code",
   "execution_count": 29,
   "metadata": {},
   "outputs": [
    {
     "name": "stdout",
     "output_type": "stream",
     "text": [
      "/Users/robertmoseley/Desktop/Malaria-Sickle/DLxJTK_TAKT_runs_avg/Data/AA_3D7_config.txt\n",
      "/Users/robertmoseley/Desktop/Malaria-Sickle/DLxJTK_TAKT_runs_avg/Data/AS_3D7_config.txt\n",
      "/Users/robertmoseley/Desktop/Malaria-Sickle/DLxJTK_TAKT_runs_avg/Data/AA_FUP_config.txt\n",
      "/Users/robertmoseley/Desktop/Malaria-Sickle/DLxJTK_TAKT_runs_avg/Data/AS_FUP_config.txt\n"
     ]
    }
   ],
   "source": [
    "drop_n_config(\"AA_3D7_means_filtered.tsv\")\n",
    "drop_n_config(\"AS_3D7_means_filtered.tsv\")\n",
    "drop_n_config(\"AA_FUP_means_filtered.tsv\")\n",
    "drop_n_config(\"AS_FUP_means_filtered.tsv\")"
   ]
  },
  {
   "cell_type": "code",
   "execution_count": null,
   "metadata": {},
   "outputs": [],
   "source": []
  }
 ],
 "metadata": {
  "kernelspec": {
   "display_name": "Python 3.5",
   "language": "python",
   "name": "py35"
  },
  "language_info": {
   "codemirror_mode": {
    "name": "ipython",
    "version": 3
   },
   "file_extension": ".py",
   "mimetype": "text/x-python",
   "name": "python",
   "nbconvert_exporter": "python",
   "pygments_lexer": "ipython3",
   "version": "3.6.7"
  }
 },
 "nbformat": 4,
 "nbformat_minor": 2
}
